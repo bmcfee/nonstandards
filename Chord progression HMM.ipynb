{
 "metadata": {
  "name": "Chord progression HMM"
 },
 "nbformat": 3,
 "nbformat_minor": 0,
 "worksheets": [
  {
   "cells": [
    {
     "cell_type": "code",
     "collapsed": false,
     "input": "import sklearn\nimport sklearn.hmm\nimport cPickle as pickle\nimport glob\nimport re",
     "language": "python",
     "metadata": {},
     "outputs": [],
     "prompt_number": 94
    },
    {
     "cell_type": "heading",
     "level": 3,
     "metadata": {},
     "source": "Helper functions"
    },
    {
     "cell_type": "code",
     "collapsed": false,
     "input": "def load_chords_from_humdrum(infile):\n    '''Given an input file, loads in the chord sequence.\n    This discards all timing and inversions.\n\n    Arguments:\n        infile  -- (str)  path to the input file\n\n    Returns:\n        chords  -- (list of str) the chord sequence\n\n    '''\n    \n    def is_chord(x):\n        return len(x) > 1 and not re.match('^[!*=]', x)\n    \n    def clean_chord(x):\n        # Removes timing and inversions\n        M = re.match('^\\d*\\.?([^/(]*)', x.strip())\n        if M is None:\n            print x\n        return M.groups()[0]\n    \n    with open(infile, 'r') as f:\n        chord_sequence = map(clean_chord, filter(is_chord, f))\n    return chord_sequence\n\ndef load_chords(pattern):\n    '''Given a file pattern (eg '/directory/*.jazz'), loads all chord sequences\n\n    Arguments:\n        pattern  -- (str) pattern glob\n\n    Returns:\n        sequences -- (list of lists) Each list is the chord sequence for one song\n    '''\n    files = glob.glob(pattern)\n    files.sort()\n    \n    sequences = []\n    for infile in files:\n        sequences.append(load_chords_from_humdrum(infile))\n    return sequences\n\ndef make_chord_alphabet(S):\n    '''Builds the alphabet of unique chords\n    \n    Arguments:\n        S  -- (list of lists) sequence of chord progressions\n\n    Returns:\n        chord_to_num  --  dict mapping chord labels to integers\n        num_to_chord  --  list mpping integers to chord labels\n    '''\n    \n    chord_to_num = {}\n    \n    \n    num_to_chord = list(set(reduce(lambda x,y: x+y, S)))\n    num_to_chord.sort()\n    \n    for i, c in enumerate(num_to_chord):\n        chord_to_num[c] = i\n        \n    return chord_to_num, num_to_chord\n\ndef chords_to_vectors(sequence, chord_to_num):\n    '''Translates a chord (string) sequence into a numeric representation\n\n    Arguments:\n        sequence -- (list of str) original chord sequence\n        chord_to_num -- (dict) mapping of chords to integers\n\n    Returns:\n        X -- (numpy.ndarray) numeric representation of chord sequence\n    '''\n    n = len(sequence)\n    \n    X = numpy.zeros(n, dtype=int)\n    for i, z in enumerate(sequence):\n        X[i] = chord_to_num[z]\n        \n    return X\n\ndef make_chord_sequence(H, n, num_to_chord):\n    '''Sample a chord progression\n    \n    Arguments:\n        H  -- (sklearn.hmm.MultinomialHMM)  the trained model\n        n  -- (int>0) length of the progression to generate\n        num_to_chord -- (list) mapping of chord numbers to labels\n\n    Returns:\n        S  -- (list of str) the generated sequence\n    '''\n    return map(lambda x: num_to_chord[x], H.sample(n)[0])\n\ndef save_model(outfile, H, chord_to_num, num_to_chord):\n    '''Save a learned model\n\n    Arguments:\n        outfile  -- (str) path to save\n        H        -- (sklearn.hmm.MultinomialHMM) trained model\n        chord_to_num -- (dict) chord mapping\n        num_to_chord -- (list) int mapping\n    '''\n    with open(outfile, 'w') as f:\n        pickle.dump({'H': H, \n                     'chord_to_num': chord_to_num, \n                     'num_to_chord': num_to_chord}, f)\n\ndef load_model(infile):\n    '''Load a pre-trained model\n\n    Arguments:\n        infile -- (str) path to the stored pickle\n\n    Returns:\n        H, chord_to_num, num_to_chord\n    '''\n    \n    with open(infile, 'r') as f:\n        P = pickle.load(f)\n    return P['H'], P['chord_to_num'], P['num_to_chord']",
     "language": "python",
     "metadata": {},
     "outputs": [],
     "prompt_number": 122
    },
    {
     "cell_type": "heading",
     "level": 3,
     "metadata": {},
     "source": "Build a model"
    },
    {
     "cell_type": "code",
     "collapsed": false,
     "input": "# Load all the chord sequences\nS = load_chords('/PATH/TO/jazzhumdrum/*.jazz')",
     "language": "python",
     "metadata": {},
     "outputs": [],
     "prompt_number": 77
    },
    {
     "cell_type": "code",
     "collapsed": false,
     "input": "# Build chord<=>number mapping\nc_to_n, n_to_c = make_chord_alphabet(S)",
     "language": "python",
     "metadata": {},
     "outputs": [],
     "prompt_number": 79
    },
    {
     "cell_type": "code",
     "collapsed": false,
     "input": "# Pack chord sequences into sklearn-friendly vectors\nobs = [chords_to_vectors(song, c_to_n) for song in S]",
     "language": "python",
     "metadata": {},
     "outputs": [],
     "prompt_number": 110
    },
    {
     "cell_type": "code",
     "collapsed": false,
     "input": "# Construct a hidden markov model\nH = sklearn.hmm.MultinomialHMM(n_components=32)",
     "language": "python",
     "metadata": {},
     "outputs": [],
     "prompt_number": 111
    },
    {
     "cell_type": "code",
     "collapsed": false,
     "input": "# Train the HMM from the chord sequences\nH.n_symbols = len(c_to_n)\nH.fit(obs)",
     "language": "python",
     "metadata": {},
     "outputs": [
      {
       "output_type": "pyout",
       "prompt_number": 112,
       "text": "MultinomialHMM(algorithm='viterbi', n_components=32,\n        random_state=<mtrand.RandomState object at 0x7f2a81fd03c0>,\n        startprob=None, startprob_prior=1.0, transmat=None,\n        transmat_prior=1.0)"
      }
     ],
     "prompt_number": 112
    },
    {
     "cell_type": "code",
     "collapsed": false,
     "input": "save_model('hmm_chords.pickle', H, c_to_n, n_to_c)",
     "language": "python",
     "metadata": {},
     "outputs": [],
     "prompt_number": 119
    },
    {
     "cell_type": "heading",
     "level": 3,
     "metadata": {},
     "source": "Testing"
    },
    {
     "cell_type": "code",
     "collapsed": false,
     "input": "# Optional: load a pre-stored model\nH, c_to_n, n_to_c = load_model('hmm_chords.pickle')",
     "language": "python",
     "metadata": {},
     "outputs": [],
     "prompt_number": 120
    },
    {
     "cell_type": "code",
     "collapsed": false,
     "input": "# Let's sample a handful of sequences\nfor i in range(10):\n    print '%2d:' % i, ' '.join(['%10s' % x for x in make_chord_sequence(H, 8, n_to_c)])",
     "language": "python",
     "metadata": {},
     "outputs": [
      {
       "output_type": "stream",
       "stream": "stdout",
       "text": " 0:    E-:maj7    C#:min7     B:min7        Bo7         E7         G7     G:min7 G-:maj7#11\n 1:     F:maj7         G7      D:min         F6         C7         F7     D:min7     A:min7\n 2:     B-7#11    E-:maj7         D7     G:min7     C:maj7       G7b9        Dh7       C7#9\n 3:    B-:maj7      D:min A-:maj7#11         D7         F7      G7b13    E-:min7     F7b9#5\n 4:        B-7    E-:maj7       D7#5       E-o7     C:min7          C    G:min11    A-:maj7\n 5:     G:min7     F:min7        A-7       C7b9    G:min11    A-:maj7         F6         C7\n 6: "
      },
      {
       "output_type": "stream",
       "stream": "stdout",
       "text": "   E-:maj7    E-:min7     A:min7     C:min7       G-13      C7b13    A-:maj7     A-7#11\n 7:     E:min7    D-:maj7     G:min7     C:min7    B-:maj7         A7      F7sus        D-7\n 8:       G7b9     F:maj7     C:maj7       B7#5       G7b9    B-:maj7       F7#5     C:min6\n 9:       E-69         C6        G#o        E-7     F:maj7       G7b9         F6     G:maj7\n"
      }
     ],
     "prompt_number": 121
    }
   ],
   "metadata": {}
  }
 ]
}
